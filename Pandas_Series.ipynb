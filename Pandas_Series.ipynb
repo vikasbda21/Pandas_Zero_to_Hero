{
 "cells": [
  {
   "cell_type": "markdown",
   "id": "9bf26545",
   "metadata": {},
   "source": [
    "## Installation"
   ]
  },
  {
   "cell_type": "code",
   "execution_count": 2,
   "id": "ae6db1f3",
   "metadata": {},
   "outputs": [
    {
     "name": "stdout",
     "output_type": "stream",
     "text": [
      "Requirement already satisfied: pandas in c:\\programdata\\anaconda3\\lib\\site-packages (1.2.4)\n",
      "Requirement already satisfied: numpy>=1.16.5 in c:\\programdata\\anaconda3\\lib\\site-packages (from pandas) (1.20.1)\n",
      "Requirement already satisfied: pytz>=2017.3 in c:\\programdata\\anaconda3\\lib\\site-packages (from pandas) (2021.1)\n",
      "Requirement already satisfied: python-dateutil>=2.7.3 in c:\\programdata\\anaconda3\\lib\\site-packages (from pandas) (2.8.1)\n",
      "Requirement already satisfied: six>=1.5 in c:\\programdata\\anaconda3\\lib\\site-packages (from python-dateutil>=2.7.3->pandas) (1.15.0)\n",
      "Note: you may need to restart the kernel to use updated packages.\n"
     ]
    }
   ],
   "source": [
    "pip install pandas"
   ]
  },
  {
   "cell_type": "markdown",
   "id": "273c5aee",
   "metadata": {},
   "source": [
    "### What is Pandas\n",
    "\n",
    "Pandas is a fast, powerful, flexible and easy to use open source data analysis and manipulation tool,\n",
    "built on top of the Python programming language."
   ]
  },
  {
   "cell_type": "markdown",
   "id": "07617f3d",
   "metadata": {},
   "source": [
    "### Pandas Series\n",
    "\n",
    "A Pandas Series is like a column in a table. It is a 1-D array holding data of any type."
   ]
  },
  {
   "cell_type": "code",
   "execution_count": 2,
   "id": "39577a5a",
   "metadata": {},
   "outputs": [],
   "source": [
    "import pandas as pd\n",
    "import numpy as np"
   ]
  },
  {
   "cell_type": "code",
   "execution_count": 14,
   "id": "db3f8db1",
   "metadata": {},
   "outputs": [],
   "source": [
    "# string\n",
    "country = ['India', 'Nepal','Pakistan','Bhutan']\n",
    "cnty = pd.Series(country)"
   ]
  },
  {
   "cell_type": "code",
   "execution_count": 5,
   "id": "abeee8c3",
   "metadata": {},
   "outputs": [
    {
     "data": {
      "text/plain": [
       "0    12.5\n",
       "1    14.9\n",
       "2    15.7\n",
       "3    21.6\n",
       "4    36.6\n",
       "dtype: float64"
      ]
     },
     "execution_count": 5,
     "metadata": {},
     "output_type": "execute_result"
    }
   ],
   "source": [
    "# integerts\n",
    "pd.Series([12.5,14.9,15.7,21.6,36.6])"
   ]
  },
  {
   "cell_type": "code",
   "execution_count": 8,
   "id": "d0bc2096",
   "metadata": {},
   "outputs": [
    {
     "data": {
      "text/plain": [
       "A    12.5\n",
       "B    14.9\n",
       "C    15.7\n",
       "D    21.6\n",
       "dtype: float64"
      ]
     },
     "execution_count": 8,
     "metadata": {},
     "output_type": "execute_result"
    }
   ],
   "source": [
    "# custum index\n",
    "alph = ['A','B','C','D']\n",
    "num = [12.5,14.9,15.7,21.6]\n",
    "pd.Series(num,index=alph)"
   ]
  },
  {
   "cell_type": "code",
   "execution_count": 10,
   "id": "113f8da1",
   "metadata": {},
   "outputs": [],
   "source": [
    "# Series from Dict\n",
    "marks = {\n",
    "    'maths':87,\n",
    "    'english':56,\n",
    "    'science':75,\n",
    "    'hindi':88\n",
    "}\n",
    "\n",
    "marks_ser = pd.Series(marks)"
   ]
  },
  {
   "cell_type": "code",
   "execution_count": 11,
   "id": "9c093140",
   "metadata": {},
   "outputs": [
    {
     "data": {
      "text/plain": [
       "maths      87\n",
       "english    56\n",
       "science    75\n",
       "hindi      88\n",
       "dtype: int64"
      ]
     },
     "execution_count": 11,
     "metadata": {},
     "output_type": "execute_result"
    }
   ],
   "source": [
    "marks_ser"
   ]
  },
  {
   "cell_type": "markdown",
   "id": "c786be42",
   "metadata": {},
   "source": [
    "# Series Attributes"
   ]
  },
  {
   "cell_type": "code",
   "execution_count": 12,
   "id": "cf012135",
   "metadata": {},
   "outputs": [
    {
     "data": {
      "text/plain": [
       "4"
      ]
     },
     "execution_count": 12,
     "metadata": {},
     "output_type": "execute_result"
    }
   ],
   "source": [
    "# size\n",
    "marks_ser.size"
   ]
  },
  {
   "cell_type": "code",
   "execution_count": 15,
   "id": "b8f75e9e",
   "metadata": {},
   "outputs": [
    {
     "data": {
      "text/plain": [
       "dtype('O')"
      ]
     },
     "execution_count": 15,
     "metadata": {},
     "output_type": "execute_result"
    }
   ],
   "source": [
    "# dtype\n",
    "cnty.dtype"
   ]
  },
  {
   "cell_type": "code",
   "execution_count": 16,
   "id": "eab55f89",
   "metadata": {},
   "outputs": [
    {
     "data": {
      "text/plain": [
       "True"
      ]
     },
     "execution_count": 16,
     "metadata": {},
     "output_type": "execute_result"
    }
   ],
   "source": [
    "# is_unique\n",
    "marks_ser.is_unique"
   ]
  },
  {
   "cell_type": "code",
   "execution_count": 17,
   "id": "725cda10",
   "metadata": {},
   "outputs": [
    {
     "data": {
      "text/plain": [
       "False"
      ]
     },
     "execution_count": 17,
     "metadata": {},
     "output_type": "execute_result"
    }
   ],
   "source": [
    "pd.Series([1,1,2,23,3,3]).is_unique"
   ]
  },
  {
   "cell_type": "code",
   "execution_count": 18,
   "id": "30944272",
   "metadata": {},
   "outputs": [
    {
     "data": {
      "text/plain": [
       "Index(['maths', 'english', 'science', 'hindi'], dtype='object')"
      ]
     },
     "execution_count": 18,
     "metadata": {},
     "output_type": "execute_result"
    }
   ],
   "source": [
    "# index\n",
    "marks_ser.index"
   ]
  },
  {
   "cell_type": "code",
   "execution_count": 19,
   "id": "1c26446c",
   "metadata": {},
   "outputs": [
    {
     "data": {
      "text/plain": [
       "array([87, 56, 75, 88], dtype=int64)"
      ]
     },
     "execution_count": 19,
     "metadata": {},
     "output_type": "execute_result"
    }
   ],
   "source": [
    "# values\n",
    "marks_ser.values"
   ]
  },
  {
   "cell_type": "markdown",
   "id": "da8d6534",
   "metadata": {},
   "source": [
    "## Series using read_csv"
   ]
  },
  {
   "cell_type": "code",
   "execution_count": 81,
   "id": "503d9b22",
   "metadata": {},
   "outputs": [
    {
     "data": {
      "text/plain": [
       "0     47\n",
       "1     21\n",
       "2     34\n",
       "3     38\n",
       "4     40\n",
       "5      2\n",
       "6     34\n",
       "7     34\n",
       "8     14\n",
       "9     26\n",
       "10    31\n",
       "11    39\n",
       "12    47\n",
       "13    28\n",
       "14    15\n",
       "15    28\n",
       "16     5\n",
       "17    22\n",
       "18     6\n",
       "19    12\n",
       "20    16\n",
       "21    41\n",
       "22    26\n",
       "23    43\n",
       "24    20\n",
       "dtype: int32"
      ]
     },
     "execution_count": 81,
     "metadata": {},
     "output_type": "execute_result"
    }
   ],
   "source": [
    "random_num = pd.Series(np.random.randint(1,50,25))\n",
    "random_num"
   ]
  },
  {
   "cell_type": "code",
   "execution_count": 34,
   "id": "bf7d9478",
   "metadata": {},
   "outputs": [
    {
     "name": "stderr",
     "output_type": "stream",
     "text": [
      "C:\\Users\\VIKAS\\AppData\\Local\\Temp\\ipykernel_31136\\817207876.py:1: FutureWarning: The squeeze argument has been deprecated and will be removed in a future version. Append .squeeze(\"columns\") to the call to squeeze.\n",
      "\n",
      "\n",
      "  movies = pd.read_csv('bollywood.csv', index_col='movie', squeeze=True)\n"
     ]
    },
    {
     "data": {
      "text/plain": [
       "movie\n",
       "Uri: The Surgical Strike                   Vicky Kaushal\n",
       "Battalion 609                                Vicky Ahuja\n",
       "The Accidental Prime Minister (film)         Anupam Kher\n",
       "Why Cheat India                            Emraan Hashmi\n",
       "Evening Shadows                         Mona Ambegaonkar\n",
       "                                              ...       \n",
       "Hum Tumhare Hain Sanam                    Shah Rukh Khan\n",
       "Aankhen (2002 film)                     Amitabh Bachchan\n",
       "Saathiya (film)                             Vivek Oberoi\n",
       "Company (film)                                Ajay Devgn\n",
       "Awara Paagal Deewana                        Akshay Kumar\n",
       "Name: lead, Length: 1500, dtype: object"
      ]
     },
     "execution_count": 34,
     "metadata": {},
     "output_type": "execute_result"
    }
   ],
   "source": [
    "movies = pd.read_csv('bollywood.csv', index_col='movie', squeeze=True)\n",
    "movies"
   ]
  },
  {
   "cell_type": "code",
   "execution_count": 35,
   "id": "0d462830",
   "metadata": {},
   "outputs": [
    {
     "data": {
      "text/plain": [
       "array(['Vicky Kaushal', 'Vicky Ahuja', 'Anupam Kher', ..., 'Vivek Oberoi',\n",
       "       'Ajay Devgn', 'Akshay Kumar'], dtype=object)"
      ]
     },
     "execution_count": 35,
     "metadata": {},
     "output_type": "execute_result"
    }
   ],
   "source": [
    "movies.values"
   ]
  },
  {
   "cell_type": "markdown",
   "id": "90ac266c",
   "metadata": {},
   "source": [
    "### Series methods"
   ]
  },
  {
   "cell_type": "code",
   "execution_count": 47,
   "id": "5653f518",
   "metadata": {},
   "outputs": [
    {
     "data": {
      "text/plain": [
       "movie\n",
       "Uri: The Surgical Strike                       Vicky Kaushal\n",
       "Battalion 609                                    Vicky Ahuja\n",
       "The Accidental Prime Minister (film)             Anupam Kher\n",
       "Why Cheat India                                Emraan Hashmi\n",
       "Evening Shadows                             Mona Ambegaonkar\n",
       "Soni (film)                             Geetika Vidya Ohlyan\n",
       "Fraud Saiyaan                                   Arshad Warsi\n",
       "Bombairiya                                      Radhika Apte\n",
       "Manikarnika: The Queen of Jhansi              Kangana Ranaut\n",
       "Thackeray (film)                         Nawazuddin Siddiqui\n",
       "Name: lead, dtype: object"
      ]
     },
     "execution_count": 47,
     "metadata": {},
     "output_type": "execute_result"
    }
   ],
   "source": [
    "# head and tail\n",
    "movies.head(10)"
   ]
  },
  {
   "cell_type": "code",
   "execution_count": 48,
   "id": "7df9454c",
   "metadata": {},
   "outputs": [
    {
     "data": {
      "text/plain": [
       "movie\n",
       "Raaz (2002 film)                    Dino Morea\n",
       "Zameen (2003 film)                  Ajay Devgn\n",
       "Waisa Bhi Hota Hai Part II        Arshad Warsi\n",
       "Devdas (2002 Hindi film)        Shah Rukh Khan\n",
       "Kaante                        Amitabh Bachchan\n",
       "Hum Tumhare Hain Sanam          Shah Rukh Khan\n",
       "Aankhen (2002 film)           Amitabh Bachchan\n",
       "Saathiya (film)                   Vivek Oberoi\n",
       "Company (film)                      Ajay Devgn\n",
       "Awara Paagal Deewana              Akshay Kumar\n",
       "Name: lead, dtype: object"
      ]
     },
     "execution_count": 48,
     "metadata": {},
     "output_type": "execute_result"
    }
   ],
   "source": [
    "movies.tail(10)"
   ]
  },
  {
   "cell_type": "code",
   "execution_count": 40,
   "id": "fb311483",
   "metadata": {},
   "outputs": [
    {
     "data": {
      "text/plain": [
       "7      5\n",
       "13    25\n",
       "9     14\n",
       "3     32\n",
       "12     4\n",
       "dtype: int32"
      ]
     },
     "execution_count": 40,
     "metadata": {},
     "output_type": "execute_result"
    }
   ],
   "source": [
    "# sample\n",
    "random_num.sample(5)"
   ]
  },
  {
   "cell_type": "code",
   "execution_count": 49,
   "id": "4928c7fa",
   "metadata": {},
   "outputs": [
    {
     "data": {
      "text/plain": [
       "movie\n",
       "Manikarnika: The Queen of Jhansi        Kangana Ranaut\n",
       "Student of the Year 2                     Tiger Shroff\n",
       "Praan Jaye Par Shaan Na Jaye            Raveena Tandon\n",
       "Dum Laga Ke Haisha                  Ayushmann Khurrana\n",
       "Gangs of Wasseypur                      Manoj Bajpayee\n",
       "Name: lead, dtype: object"
      ]
     },
     "execution_count": 49,
     "metadata": {},
     "output_type": "execute_result"
    }
   ],
   "source": [
    "movies.sample(5)"
   ]
  },
  {
   "cell_type": "code",
   "execution_count": 55,
   "id": "680ae225",
   "metadata": {},
   "outputs": [
    {
     "data": {
      "text/plain": [
       "Akshay Kumar        48\n",
       "Amitabh Bachchan    45\n",
       "Ajay Devgn          38\n",
       "Salman Khan         31\n",
       "Sanjay Dutt         26\n",
       "                    ..\n",
       "Diganth              1\n",
       "Parveen Kaur         1\n",
       "Seema Azmi           1\n",
       "Akanksha Puri        1\n",
       "Edwin Fernandes      1\n",
       "Name: lead, Length: 566, dtype: int64"
      ]
     },
     "execution_count": 55,
     "metadata": {},
     "output_type": "execute_result"
    }
   ],
   "source": [
    "# value_counts\n",
    "movies.value_counts()"
   ]
  },
  {
   "cell_type": "code",
   "execution_count": 54,
   "id": "8f756e36",
   "metadata": {},
   "outputs": [
    {
     "data": {
      "text/plain": [
       "10    47\n",
       "14    47\n",
       "6     44\n",
       "4     43\n",
       "23    42\n",
       "18    41\n",
       "1     41\n",
       "5     33\n",
       "16    32\n",
       "3     32\n",
       "20    30\n",
       "17    29\n",
       "15    27\n",
       "21    26\n",
       "13    25\n",
       "0     23\n",
       "22    21\n",
       "11    20\n",
       "8     18\n",
       "2     18\n",
       "9     14\n",
       "19    14\n",
       "7      5\n",
       "12     4\n",
       "24     4\n",
       "dtype: int32"
      ]
     },
     "execution_count": 54,
     "metadata": {},
     "output_type": "execute_result"
    }
   ],
   "source": [
    "# sort_values\n",
    "random_num.sort_values(ascending=False)"
   ]
  },
  {
   "cell_type": "code",
   "execution_count": 63,
   "id": "bf52d76c",
   "metadata": {},
   "outputs": [
    {
     "data": {
      "text/plain": [
       "47"
      ]
     },
     "execution_count": 63,
     "metadata": {},
     "output_type": "execute_result"
    }
   ],
   "source": [
    "# method chaining\n",
    "random_num.sort_values(ascending=False).head(1).values[0]"
   ]
  },
  {
   "cell_type": "markdown",
   "id": "552d4b50",
   "metadata": {},
   "source": [
    "## Series Math Methods"
   ]
  },
  {
   "cell_type": "code",
   "execution_count": 64,
   "id": "d50fe26a",
   "metadata": {},
   "outputs": [
    {
     "data": {
      "text/plain": [
       "1500"
      ]
     },
     "execution_count": 64,
     "metadata": {},
     "output_type": "execute_result"
    }
   ],
   "source": [
    "# count\n",
    "movies.count()"
   ]
  },
  {
   "cell_type": "code",
   "execution_count": 65,
   "id": "3e6ba4fb",
   "metadata": {},
   "outputs": [],
   "source": [
    "a = pd.Series([12,25,45,np.nan,55,12,25])"
   ]
  },
  {
   "cell_type": "code",
   "execution_count": 66,
   "id": "06b125b0",
   "metadata": {},
   "outputs": [
    {
     "data": {
      "text/plain": [
       "7"
      ]
     },
     "execution_count": 66,
     "metadata": {},
     "output_type": "execute_result"
    }
   ],
   "source": [
    "a.size"
   ]
  },
  {
   "cell_type": "code",
   "execution_count": 67,
   "id": "bbe5e7a1",
   "metadata": {},
   "outputs": [
    {
     "data": {
      "text/plain": [
       "6"
      ]
     },
     "execution_count": 67,
     "metadata": {},
     "output_type": "execute_result"
    }
   ],
   "source": [
    "a.count()"
   ]
  },
  {
   "cell_type": "code",
   "execution_count": 68,
   "id": "47935961",
   "metadata": {},
   "outputs": [
    {
     "data": {
      "text/plain": [
       "680"
      ]
     },
     "execution_count": 68,
     "metadata": {},
     "output_type": "execute_result"
    }
   ],
   "source": [
    "# sum()\n",
    "random_num.sum()"
   ]
  },
  {
   "cell_type": "code",
   "execution_count": 71,
   "id": "980a3615",
   "metadata": {},
   "outputs": [
    {
     "data": {
      "text/plain": [
       "22200"
      ]
     },
     "execution_count": 71,
     "metadata": {},
     "output_type": "execute_result"
    }
   ],
   "source": [
    "# product()\n",
    "random_num.product()"
   ]
  },
  {
   "cell_type": "code",
   "execution_count": 73,
   "id": "5900eff4",
   "metadata": {},
   "outputs": [
    {
     "data": {
      "text/plain": [
       "37"
      ]
     },
     "execution_count": 73,
     "metadata": {},
     "output_type": "execute_result"
    }
   ],
   "source": [
    "# min/max\n",
    "random_num.max()"
   ]
  },
  {
   "cell_type": "code",
   "execution_count": 79,
   "id": "a13d3c35",
   "metadata": {},
   "outputs": [
    {
     "data": {
      "text/plain": [
       "23.6"
      ]
     },
     "execution_count": 79,
     "metadata": {},
     "output_type": "execute_result"
    }
   ],
   "source": [
    "# mean\n",
    "random_num.mean()"
   ]
  },
  {
   "cell_type": "code",
   "execution_count": 78,
   "id": "82308e49",
   "metadata": {},
   "outputs": [
    {
     "data": {
      "text/plain": [
       "19.0"
      ]
     },
     "execution_count": 78,
     "metadata": {},
     "output_type": "execute_result"
    }
   ],
   "source": [
    "# median\n",
    "random_num.median()"
   ]
  },
  {
   "cell_type": "code",
   "execution_count": 82,
   "id": "c7fcd448",
   "metadata": {},
   "outputs": [
    {
     "data": {
      "text/plain": [
       "0    34\n",
       "dtype: int32"
      ]
     },
     "execution_count": 82,
     "metadata": {},
     "output_type": "execute_result"
    }
   ],
   "source": [
    "# mode\n",
    "random_num.mode()"
   ]
  },
  {
   "cell_type": "code",
   "execution_count": 83,
   "id": "4971896e",
   "metadata": {},
   "outputs": [
    {
     "data": {
      "text/plain": [
       "count    25.000000\n",
       "mean     26.760000\n",
       "std      13.182311\n",
       "min       2.000000\n",
       "25%      16.000000\n",
       "50%      28.000000\n",
       "75%      38.000000\n",
       "max      47.000000\n",
       "dtype: float64"
      ]
     },
     "execution_count": 83,
     "metadata": {},
     "output_type": "execute_result"
    }
   ],
   "source": [
    "random_num.describe()"
   ]
  },
  {
   "cell_type": "markdown",
   "id": "3d703cca",
   "metadata": {},
   "source": [
    "## Series Indexing"
   ]
  },
  {
   "cell_type": "code",
   "execution_count": 87,
   "id": "6a1efdf3",
   "metadata": {},
   "outputs": [
    {
     "data": {
      "text/plain": [
       "a    12\n",
       "b    15\n",
       "c    13\n",
       "d    45\n",
       "e    85\n",
       "f    79\n",
       "g    14\n",
       "h    19\n",
       "i    75\n",
       "dtype: int64"
      ]
     },
     "execution_count": 87,
     "metadata": {},
     "output_type": "execute_result"
    }
   ],
   "source": [
    "x = pd.Series([12,15,13,45,85,79,14,19,75], index=['a','b','c','d','e','f','g','h','i'])\n",
    "x"
   ]
  },
  {
   "cell_type": "code",
   "execution_count": 90,
   "id": "75fbc868",
   "metadata": {},
   "outputs": [
    {
     "data": {
      "text/plain": [
       "14"
      ]
     },
     "execution_count": 90,
     "metadata": {},
     "output_type": "execute_result"
    }
   ],
   "source": [
    "x['g']"
   ]
  },
  {
   "cell_type": "code",
   "execution_count": 92,
   "id": "111c8b0d",
   "metadata": {},
   "outputs": [
    {
     "data": {
      "text/plain": [
       "b    15\n",
       "c    13\n",
       "d    45\n",
       "e    85\n",
       "f    79\n",
       "dtype: int64"
      ]
     },
     "execution_count": 92,
     "metadata": {},
     "output_type": "execute_result"
    }
   ],
   "source": [
    "# slicing\n",
    "x['b':'f']"
   ]
  },
  {
   "cell_type": "code",
   "execution_count": 94,
   "id": "e03570b4",
   "metadata": {},
   "outputs": [
    {
     "data": {
      "text/plain": [
       "c    13\n",
       "f    79\n",
       "a    12\n",
       "dtype: int64"
      ]
     },
     "execution_count": 94,
     "metadata": {},
     "output_type": "execute_result"
    }
   ],
   "source": [
    "# fancy indexing\n",
    "x[['c','f','a']]"
   ]
  },
  {
   "cell_type": "code",
   "execution_count": 95,
   "id": "fbe77c53",
   "metadata": {},
   "outputs": [],
   "source": [
    "arr = np.arange(1,11).reshape(2,5)\n",
    "df = pd.DataFrame(arr)"
   ]
  },
  {
   "cell_type": "code",
   "execution_count": 99,
   "id": "222ca03a",
   "metadata": {},
   "outputs": [
    {
     "data": {
      "text/html": [
       "<div>\n",
       "<style scoped>\n",
       "    .dataframe tbody tr th:only-of-type {\n",
       "        vertical-align: middle;\n",
       "    }\n",
       "\n",
       "    .dataframe tbody tr th {\n",
       "        vertical-align: top;\n",
       "    }\n",
       "\n",
       "    .dataframe thead th {\n",
       "        text-align: right;\n",
       "    }\n",
       "</style>\n",
       "<table border=\"1\" class=\"dataframe\">\n",
       "  <thead>\n",
       "    <tr style=\"text-align: right;\">\n",
       "      <th></th>\n",
       "      <th>0</th>\n",
       "      <th>1</th>\n",
       "      <th>2</th>\n",
       "      <th>3</th>\n",
       "      <th>4</th>\n",
       "    </tr>\n",
       "  </thead>\n",
       "  <tbody>\n",
       "    <tr>\n",
       "      <th>0</th>\n",
       "      <td>1</td>\n",
       "      <td>2</td>\n",
       "      <td>3</td>\n",
       "      <td>4</td>\n",
       "      <td>5</td>\n",
       "    </tr>\n",
       "    <tr>\n",
       "      <th>1</th>\n",
       "      <td>6</td>\n",
       "      <td>7</td>\n",
       "      <td>8</td>\n",
       "      <td>9</td>\n",
       "      <td>10</td>\n",
       "    </tr>\n",
       "  </tbody>\n",
       "</table>\n",
       "</div>"
      ],
      "text/plain": [
       "   0  1  2  3   4\n",
       "0  1  2  3  4   5\n",
       "1  6  7  8  9  10"
      ]
     },
     "execution_count": 99,
     "metadata": {},
     "output_type": "execute_result"
    }
   ],
   "source": [
    "df"
   ]
  },
  {
   "cell_type": "code",
   "execution_count": 98,
   "id": "3dfede31",
   "metadata": {},
   "outputs": [],
   "source": [
    "df.to_csv('df1.csv')"
   ]
  },
  {
   "cell_type": "code",
   "execution_count": 103,
   "id": "5bf62cac",
   "metadata": {},
   "outputs": [],
   "source": [
    "arr1 = np.array([1,2,3,4,5,6])\n",
    "file = open('file1.txt', 'w+')\n",
    "save_file = str(arr1)\n",
    "file.write(save_file)\n",
    "file.close()\n"
   ]
  },
  {
   "cell_type": "code",
   "execution_count": 104,
   "id": "518410db",
   "metadata": {},
   "outputs": [
    {
     "name": "stdout",
     "output_type": "stream",
     "text": [
      "[1 2 3 4 5 6]\n"
     ]
    }
   ],
   "source": [
    "file = open('file1.txt', 'r')\n",
    "read_file = file.read()\n",
    "print(read_file)\n",
    "file.close()"
   ]
  },
  {
   "cell_type": "code",
   "execution_count": 105,
   "id": "472f3914",
   "metadata": {},
   "outputs": [
    {
     "data": {
      "text/plain": [
       "maths      87\n",
       "english    56\n",
       "science    75\n",
       "hindi      88\n",
       "dtype: int64"
      ]
     },
     "execution_count": 105,
     "metadata": {},
     "output_type": "execute_result"
    }
   ],
   "source": [
    "# editting\n",
    "marks_ser"
   ]
  },
  {
   "cell_type": "code",
   "execution_count": 106,
   "id": "e79b8755",
   "metadata": {},
   "outputs": [],
   "source": [
    "marks_ser[1]=75"
   ]
  },
  {
   "cell_type": "code",
   "execution_count": 113,
   "id": "f78cb6bd",
   "metadata": {},
   "outputs": [
    {
     "data": {
      "text/plain": [
       "maths        0\n",
       "english     75\n",
       "science      0\n",
       "hindi      100\n",
       "abc          0\n",
       "dtype: int64"
      ]
     },
     "execution_count": 113,
     "metadata": {},
     "output_type": "execute_result"
    }
   ],
   "source": [
    "marks_ser"
   ]
  },
  {
   "cell_type": "code",
   "execution_count": 108,
   "id": "b2c322d1",
   "metadata": {},
   "outputs": [],
   "source": [
    "marks_ser['abc'] = 100"
   ]
  },
  {
   "cell_type": "code",
   "execution_count": 110,
   "id": "cdd86376",
   "metadata": {},
   "outputs": [],
   "source": [
    "marks_ser[2:4] = [100,100]"
   ]
  },
  {
   "cell_type": "code",
   "execution_count": 112,
   "id": "0853b719",
   "metadata": {},
   "outputs": [],
   "source": [
    "# fancy indexing\n",
    "marks_ser[[0,2,4]]=[0,0,0]"
   ]
  },
  {
   "cell_type": "code",
   "execution_count": null,
   "id": "3f9f6abb",
   "metadata": {},
   "outputs": [],
   "source": []
  }
 ],
 "metadata": {
  "kernelspec": {
   "display_name": "Python 3 (ipykernel)",
   "language": "python",
   "name": "python3"
  },
  "language_info": {
   "codemirror_mode": {
    "name": "ipython",
    "version": 3
   },
   "file_extension": ".py",
   "mimetype": "text/x-python",
   "name": "python",
   "nbconvert_exporter": "python",
   "pygments_lexer": "ipython3",
   "version": "3.9.13"
  }
 },
 "nbformat": 4,
 "nbformat_minor": 5
}
